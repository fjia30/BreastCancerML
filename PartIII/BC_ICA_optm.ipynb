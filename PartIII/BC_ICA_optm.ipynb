{
 "cells": [
  {
   "cell_type": "code",
   "execution_count": 1,
   "metadata": {},
   "outputs": [
    {
     "name": "stderr",
     "output_type": "stream",
     "text": [
      "/Library/Frameworks/Python.framework/Versions/3.7/lib/python3.7/site-packages/statsmodels/tools/_testing.py:19: FutureWarning: pandas.util.testing is deprecated. Use the functions in the public API at pandas.testing instead.\n",
      "  import pandas.util.testing as tm\n"
     ]
    }
   ],
   "source": [
    "import pandas as pd\n",
    "import numpy as np\n",
    "import seaborn as sns\n",
    "import matplotlib.pyplot as plt\n",
    "x = pd.read_csv(\"BC_Xtrain.csv\").drop(columns=[\"Unnamed: 0\"])\n",
    "y = pd.read_csv(\"BC_ytrain.csv\").drop(columns=[\"Unnamed: 0\"])"
   ]
  },
  {
   "cell_type": "code",
   "execution_count": 2,
   "metadata": {},
   "outputs": [],
   "source": [
    "from sklearn.decomposition import PCA, FastICA\n",
    "x1 = PCA(n_components=10,svd_solver='full').fit_transform(x)\n",
    "x1 = FastICA(whiten=True).fit_transform(x1)"
   ]
  },
  {
   "cell_type": "code",
   "execution_count": 3,
   "metadata": {},
   "outputs": [
    {
     "data": {
      "text/plain": [
       "1.346890710469393e-15"
      ]
     },
     "execution_count": 3,
     "metadata": {},
     "output_type": "execute_result"
    }
   ],
   "source": [
    "from sklearn.metrics import homogeneity_score\n",
    "homogeneity_score(y.values.flatten(), [0]*len(y.values.flatten()))"
   ]
  },
  {
   "cell_type": "code",
   "execution_count": 4,
   "metadata": {},
   "outputs": [
    {
     "name": "stderr",
     "output_type": "stream",
     "text": [
      "/Library/Frameworks/Python.framework/Versions/3.7/lib/python3.7/site-packages/sklearn/externals/six.py:31: FutureWarning: The module is deprecated in version 0.21 and will be removed in version 0.23 since we've dropped support for Python 2.7. Please rely on the official version of six (https://pypi.org/project/six/).\n",
      "  \"(https://pypi.org/project/six/).\", FutureWarning)\n"
     ]
    }
   ],
   "source": [
    "import mlrose\n",
    "from sklearn.cluster import KMeans\n",
    "from sklearn.mixture import GaussianMixture\n",
    "\n",
    "def calculatec_score(columsToPick, x, y):\n",
    "    length = len(columsToPick)\n",
    "    isFirst = True;\n",
    "    n = 0;\n",
    "    for i in range(length):\n",
    "        if columsToPick[i]==1:\n",
    "            n += 1;\n",
    "            if isFirst: \n",
    "                keptColumns = x[:,i]\n",
    "                isFirst = False\n",
    "            else: \n",
    "                keptColumns = np.column_stack((keptColumns, x[:,i]))\n",
    "    if n==0: return 0\n",
    "    if n==1: keptColumns = np.reshape(keptColumns, (-1,1))\n",
    "    clusters = pd.Series(data=KMeans(n_clusters=2).fit(keptColumns).labels_)\n",
    "    return homogeneity_score(y.values.flatten(), clusters) \n",
    "\n",
    "def calculatec_score_EM(columsToPick, x, y):\n",
    "    length = len(columsToPick)\n",
    "    isFirst = True;\n",
    "    n = 0;\n",
    "    for i in range(length):\n",
    "        if columsToPick[i]==1:\n",
    "            n += 1;\n",
    "            if isFirst: \n",
    "                keptColumns = x[:,i]\n",
    "                isFirst = False\n",
    "            else: \n",
    "                keptColumns = np.column_stack((keptColumns, x[:,i]))\n",
    "    if n==0: return 0\n",
    "    if n==1: keptColumns = np.reshape(keptColumns, (-1,1))\n",
    "    EM = GaussianMixture(n_components=2, n_init=10).fit_predict(keptColumns)\n",
    "    clusters = pd.Series(data=EM)\n",
    "    return homogeneity_score(y.values.flatten(), clusters) "
   ]
  },
  {
   "cell_type": "code",
   "execution_count": 5,
   "metadata": {},
   "outputs": [],
   "source": [
    "# Optimizing Kmeans\n",
    "fitnessK = mlrose.CustomFitness(calculatec_score, problem_type='discrete', x=x1, y=y)\n",
    "problemK = mlrose.DiscreteOpt(10, fitnessK)\n",
    "best_stateK, best_fitK = mlrose.random_hill_climb(problemK, max_attempts=20,restarts=10, curve=False)"
   ]
  },
  {
   "cell_type": "code",
   "execution_count": 6,
   "metadata": {},
   "outputs": [
    {
     "data": {
      "text/plain": [
       "array([0, 1, 1, 1, 1, 1, 1, 1, 1, 1])"
      ]
     },
     "execution_count": 6,
     "metadata": {},
     "output_type": "execute_result"
    }
   ],
   "source": [
    "best_stateK"
   ]
  },
  {
   "cell_type": "code",
   "execution_count": 7,
   "metadata": {},
   "outputs": [
    {
     "data": {
      "text/plain": [
       "0.7294893123480315"
      ]
     },
     "execution_count": 7,
     "metadata": {},
     "output_type": "execute_result"
    }
   ],
   "source": [
    "best_fitK"
   ]
  },
  {
   "cell_type": "code",
   "execution_count": 8,
   "metadata": {},
   "outputs": [],
   "source": [
    "isFirst = True\n",
    "for i in range(len(best_stateK)):\n",
    "    if best_stateK[i]==1:\n",
    "        if isFirst: \n",
    "            x2 = x1[:,i]\n",
    "            isFirst = False\n",
    "        else: \n",
    "            x2 = np.column_stack((x2, x1[:,i]))"
   ]
  },
  {
   "cell_type": "code",
   "execution_count": 9,
   "metadata": {},
   "outputs": [],
   "source": [
    "# Optimizing EM\n",
    "fitnessEM = mlrose.CustomFitness(calculatec_score_EM, problem_type='discrete', x=x1, y=y)\n",
    "problemEM = mlrose.DiscreteOpt(10, fitnessEM)\n",
    "best_stateEM, best_fitEM = mlrose.random_hill_climb(problemEM, max_attempts=30,restarts=10, curve=False)"
   ]
  },
  {
   "cell_type": "code",
   "execution_count": 10,
   "metadata": {},
   "outputs": [
    {
     "data": {
      "text/plain": [
       "array([0, 1, 1, 1, 1, 1, 0, 0, 0, 1])"
      ]
     },
     "execution_count": 10,
     "metadata": {},
     "output_type": "execute_result"
    }
   ],
   "source": [
    "best_stateEM"
   ]
  },
  {
   "cell_type": "code",
   "execution_count": 11,
   "metadata": {},
   "outputs": [
    {
     "data": {
      "text/plain": [
       "0.39799785701887885"
      ]
     },
     "execution_count": 11,
     "metadata": {},
     "output_type": "execute_result"
    }
   ],
   "source": [
    "best_fitEM"
   ]
  },
  {
   "cell_type": "code",
   "execution_count": 12,
   "metadata": {},
   "outputs": [],
   "source": [
    "isFirst = True\n",
    "for i in range(len(best_stateEM)):\n",
    "    if best_stateEM[i]==1:\n",
    "        if isFirst: \n",
    "            x3 = x1[:,i]\n",
    "            isFirst = False\n",
    "        else: \n",
    "            x3 = np.column_stack((x3, x1[:,i]))"
   ]
  },
  {
   "cell_type": "code",
   "execution_count": 13,
   "metadata": {},
   "outputs": [],
   "source": [
    "# Kmeans\n",
    "kmeans = KMeans(n_clusters=2).fit(x2)\n",
    "labels = pd.Series(data=kmeans.labels_)\n",
    "result = pd.concat([labels, y], axis=1)\n",
    "result.columns=[\"cluster\",\"diagnosis\"]\n",
    "cluster0 = result.loc[result.cluster==0]\n",
    "cluster1 = result.loc[result.cluster==1]"
   ]
  },
  {
   "cell_type": "code",
   "execution_count": 14,
   "metadata": {},
   "outputs": [],
   "source": [
    "# EM\n",
    "EM = GaussianMixture(n_components=2, n_init=10).fit_predict(x3)\n",
    "EMlabels = pd.Series(data=EM)\n",
    "EMresult = pd.concat([EMlabels, y], axis=1)\n",
    "EMresult.columns=[\"cluster\",\"diagnosis\"]\n",
    "EMcluster0 = EMresult.loc[EMresult.cluster==0]\n",
    "EMcluster1 = EMresult.loc[EMresult.cluster==1]"
   ]
  },
  {
   "cell_type": "code",
   "execution_count": 15,
   "metadata": {},
   "outputs": [
    {
     "data": {
      "text/plain": [
       "Text(0.5, -0.05, 'Figure 8. Breast Cancer Dataset with PCA, ICA and randomozed optimization for feature selection')"
      ]
     },
     "execution_count": 15,
     "metadata": {},
     "output_type": "execute_result"
    },
    {
     "data": {
      "image/png": "[encoded data removed]",
      "text/plain": [
       "<Figure size 1440x288 with 5 Axes>"
      ]
     },
     "metadata": {
      "needs_background": "light"
     },
     "output_type": "display_data"
    }
   ],
   "source": [
    "fig, axs = plt.subplots(1,5,figsize=(20,4))\n",
    "sns.countplot(data=result, x=\"diagnosis\", ax=axs[0]).set_title(\"total\")\n",
    "sns.countplot(data=cluster0, x=\"diagnosis\", ax=axs[1]).set_title(\"K-means, cluster 0\")\n",
    "sns.countplot(data=cluster1, x=\"diagnosis\", ax=axs[2]).set_title(\"K-means, cluster 1\")\n",
    "sns.countplot(data=EMcluster0, x=\"diagnosis\", ax=axs[3]).set_title(\"EM, cluster 0\")\n",
    "sns.countplot(data=EMcluster1, x=\"diagnosis\", ax=axs[4]).set_title(\"EM, cluster 1\")\n",
    "fig.suptitle(\"Figure 8. Breast Cancer Dataset with PCA, ICA and randomozed optimization for feature selection\", fontsize=20,y=-0.05)"
   ]
  },
  {
   "cell_type": "code",
   "execution_count": null,
   "metadata": {},
   "outputs": [],
   "source": []
  }
 ],
 "metadata": {
  "kernelspec": {
   "display_name": "Python 3",
   "language": "python",
   "name": "python3"
  },
  "language_info": {
   "codemirror_mode": {
    "name": "ipython",
    "version": 3
   },
   "file_extension": ".py",
   "mimetype": "text/x-python",
   "name": "python",
   "nbconvert_exporter": "python",
   "pygments_lexer": "ipython3",
   "version": "3.7.4"
  }
 },
 "nbformat": 4,
 "nbformat_minor": 2
}
