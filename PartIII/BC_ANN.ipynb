{
 "cells": [
  {
   "cell_type": "code",
   "execution_count": 1,
   "metadata": {},
   "outputs": [
    {
     "name": "stderr",
     "output_type": "stream",
     "text": [
      "/Library/Frameworks/Python.framework/Versions/3.7/lib/python3.7/site-packages/statsmodels/tools/_testing.py:19: FutureWarning: pandas.util.testing is deprecated. Use the functions in the public API at pandas.testing instead.\n",
      "  import pandas.util.testing as tm\n"
     ]
    }
   ],
   "source": [
    "import pandas as pd\n",
    "import numpy as np\n",
    "import seaborn as sns\n",
    "import matplotlib.pyplot as plt\n",
    "x_train = pd.read_csv(\"BC_Xtrain.csv\").drop(columns=[\"Unnamed: 0\"])\n",
    "y_train = pd.read_csv(\"BC_ytrain.csv\").drop(columns=[\"Unnamed: 0\"])\n",
    "x_test = pd.read_csv(\"BC_Xtest.csv\").drop(columns=[\"Unnamed: 0\"])\n",
    "y_test = pd.read_csv(\"BC_ytest.csv\").drop(columns=[\"Unnamed: 0\"])\n",
    "\n",
    "y_train = y_train.to_numpy().flatten()\n",
    "y_test = y_test.to_numpy().flatten()"
   ]
  },
  {
   "cell_type": "code",
   "execution_count": 2,
   "metadata": {},
   "outputs": [],
   "source": [
    "from sklearn.decomposition import PCA\n",
    "pca = PCA(n_components=10, whiten=True).fit(x_train)\n",
    "x_train_pca = pca.transform(x_train)\n",
    "x_test_pca = pca.transform(x_test)"
   ]
  },
  {
   "cell_type": "code",
   "execution_count": 3,
   "metadata": {},
   "outputs": [],
   "source": [
    "from sklearn.decomposition import FastICA\n",
    "ica = FastICA(n_components=10, whiten=True).fit(x_train)\n",
    "x_train_ica = ica.transform(x_train)\n",
    "x_test_ica = ica.transform(x_test)"
   ]
  },
  {
   "cell_type": "code",
   "execution_count": 4,
   "metadata": {},
   "outputs": [
    {
     "name": "stdout",
     "output_type": "stream",
     "text": [
      "Original dataset: time 426ms, train accuracy 0.9812, test accuracy 0.9790\n"
     ]
    }
   ],
   "source": [
    "from sklearn.neural_network import MLPClassifier\n",
    "from sklearn.metrics import accuracy_score\n",
    "import time\n",
    "#train on original dataset\n",
    "clf = MLPClassifier(max_iter=10000, activation='logistic', hidden_layer_sizes=10)\n",
    "t = time.time()\n",
    "clf.fit(x_train, y_train)\n",
    "t = (time.time()- t) * 1000\n",
    "train_acc = accuracy_score(y_train, clf.predict(x_train))\n",
    "test_acc = accuracy_score(y_test,clf.predict(x_test))\n",
    "print(\"Original dataset: time %dms, train accuracy %.4f, test accuracy %.4f\"%(t, train_acc, test_acc))"
   ]
  },
  {
   "cell_type": "code",
   "execution_count": 5,
   "metadata": {},
   "outputs": [
    {
     "name": "stdout",
     "output_type": "stream",
     "text": [
      "PCA: time 729ms, train accuracy 0.9812, test accuracy 0.9860\n"
     ]
    }
   ],
   "source": [
    "#train on pca dataset\n",
    "t = time.time()\n",
    "clf.fit(x_train_pca, y_train)\n",
    "t = (time.time()- t) * 1000\n",
    "train_acc = accuracy_score(y_train, clf.predict(x_train_pca))\n",
    "test_acc = accuracy_score(y_test, clf.predict(x_test_pca))\n",
    "print(\"PCA: time %dms, train accuracy %.4f, test accuracy %.4f\"%(t, train_acc, test_acc))"
   ]
  },
  {
   "cell_type": "code",
   "execution_count": 6,
   "metadata": {},
   "outputs": [
    {
     "name": "stdout",
     "output_type": "stream",
     "text": [
      "ICA: time 125ms, train accuracy 0.6291, test accuracy 0.6224\n"
     ]
    }
   ],
   "source": [
    "#train on ica dataset\n",
    "t = time.time()\n",
    "clf.fit(x_train_ica, y_train)\n",
    "t = (time.time()- t) * 1000\n",
    "train_acc = accuracy_score(y_train, clf.predict(x_train_ica))\n",
    "test_acc = accuracy_score(y_test, clf.predict(x_test_ica))\n",
    "print(\"ICA: time %dms, train accuracy %.4f, test accuracy %.4f\"%(t, train_acc, test_acc))"
   ]
  },
  {
   "cell_type": "code",
   "execution_count": null,
   "metadata": {},
   "outputs": [],
   "source": []
  }
 ],
 "metadata": {
  "kernelspec": {
   "display_name": "Python 3",
   "language": "python",
   "name": "python3"
  },
  "language_info": {
   "codemirror_mode": {
    "name": "ipython",
    "version": 3
   },
   "file_extension": ".py",
   "mimetype": "text/x-python",
   "name": "python",
   "nbconvert_exporter": "python",
   "pygments_lexer": "ipython3",
   "version": "3.7.4"
  }
 },
 "nbformat": 4,
 "nbformat_minor": 2
}
